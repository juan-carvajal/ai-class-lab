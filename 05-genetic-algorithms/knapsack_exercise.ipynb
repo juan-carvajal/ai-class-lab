{
  "cells": [
    {
      "cell_type": "markdown",
      "metadata": {
        "id": "Z77R-epE0yaH",
        "colab_type": "text"
      },
      "source": [
        "# Knapsack problem\n",
        "\n",
        "Given a list of items and a bag maximum capacity, find the best combination of items.\n",
        "\n",
        "The algorithm to complete:"
      ]
    },
    {
      "cell_type": "code",
      "metadata": {
        "id": "Iqigakkn0hXE",
        "colab_type": "code",
        "colab": {}
      },
      "source": [
        "import random\n",
        "import math\n",
        "import numpy as np\n",
        "\n",
        "class KnapsackGenetic:\n",
        "  def __init__(self, params):\n",
        "    self.ALL_NUMBERS = list(range(params[\"max_per_item\"] + 1))\n",
        "    self.params = params\n",
        "    self.specimen = [None] * self.params[\"generation_size\"]\n",
        "\n",
        "    self.create_initial_population()\n",
        "\n",
        "  def create_initial_population(self):\n",
        "    self.specimen = list(map(\n",
        "        lambda _: list(map(\n",
        "            lambda _: random.choice(self.ALL_NUMBERS),\n",
        "            [None] * len(self.params[\"items\"])\n",
        "        )),\n",
        "        self.specimen\n",
        "    ))\n",
        "\n",
        "  def fitness(self, specimen):\n",
        "    v=0\n",
        "    w=0\n",
        "    for i in range(len(specimen)):\n",
        "      v+=specimen[i]*self.params[\"items\"][i].value\n",
        "      w+=specimen[i]*self.params[\"items\"][i].weight\n",
        "    return v-(max(0,w-self.params['max_weight'])*1000000)\n",
        "    \n",
        "\n",
        "  def is_converged(self):\n",
        "    if any(self.fitness(specimen) >= self.params[\"fit_threshold\"] for specimen in self.specimen):\n",
        "      return True\n",
        "\n",
        "    return False\n",
        "\n",
        "  def get_fit(self):\n",
        "    evaluations = self.fitness_all()\n",
        "\n",
        "    max_evaluation = max(evaluations)\n",
        "\n",
        "    max_index = evaluations.index(max_evaluation)\n",
        "\n",
        "    return self.specimen[max_index], max_evaluation\n",
        "\n",
        "  def fitness_all(self):\n",
        "    return list(map(self.fitness, self.specimen))\n",
        "\n",
        "  def select_specimen(self, specimen_evaluations):\n",
        "    specimen_and_evaluations = list(zip(self.specimen, specimen_evaluations))\n",
        "\n",
        "    specimen_and_evaluations.sort(key=lambda e: e[1], reverse = True)\n",
        "\n",
        "    n_top = int(math.ceil(len(self.specimen) * params[\"select_top\"]))\n",
        "\n",
        "    return list(map(lambda s: s[0], specimen_and_evaluations[:n_top]))\n",
        "  \n",
        "  def mutate(self, specimen):\n",
        "    for i in range(len(specimen)):\n",
        "      if random.random()<=self.params[\"mutation_percentage\"]:\n",
        "        specimen[i]=random.randint(0,self.params[\"max_per_item\"])\n",
        "    return specimen\n",
        "\n",
        "  def generate_children(self, selected_specimen):  \n",
        "    mutated_specimen = [None] * len(self.specimen)\n",
        "\n",
        "    for i in range(len(mutated_specimen)):\n",
        "      mutated_specimen[i] = self.mutate(random.choice(selected_specimen))\n",
        "\n",
        "    return mutated_specimen\n",
        "\n",
        "  def run(self):\n",
        "    generation_number = 1\n",
        "    hof=None\n",
        "    max_eval=-np.inf\n",
        "    while generation_number <= self.params[\"max_generations\"] and not self.is_converged():\n",
        "      top_generation = self.get_fit()\n",
        "\n",
        "      if top_generation[1]>max_eval:\n",
        "        hof=top_generation[0]\n",
        "        max_eval=top_generation[1]\n",
        "\n",
        "      top_str = \"\".join(str(top_generation[0]))\n",
        "      \n",
        "      print(f\"Generation #{generation_number}:\\t{top_str}\\t{top_generation[1]}\")\n",
        "\n",
        "      specimen_evaluations = self.fitness_all()\n",
        "\n",
        "      selected_specimen = self.select_specimen(specimen_evaluations)\n",
        "      \n",
        "      self.specimen = self.generate_children(selected_specimen)\n",
        "      \n",
        "      generation_number += 1\n",
        "    \n",
        "    return hof,max_eval"
      ],
      "execution_count": 44,
      "outputs": []
    },
    {
      "cell_type": "markdown",
      "metadata": {
        "id": "hnHAziSc1ChK",
        "colab_type": "text"
      },
      "source": [
        "To run the algorithm:"
      ]
    },
    {
      "cell_type": "code",
      "metadata": {
        "id": "_ssF5Z6S1FQ6",
        "colab_type": "code",
        "colab": {
          "base_uri": "https://localhost:8080/",
          "height": 349
        },
        "outputId": "6e48c80f-4ed7-49f3-e872-150e3198fab0",
        "tags": [
          "outputPrepend",
          "outputPrepend",
          "outputPrepend",
          "outputPrepend"
        ]
      },
      "source": [
        "class Item:\n",
        "  def __init__(self, value, weight):\n",
        "    self.value = value\n",
        "    self.weight = weight\n",
        "\n",
        "params = {\n",
        "    \"mutation_percentage\": 0.05,\n",
        "    \"select_top\": 50,\n",
        "    \"generation_size\": 1000,\n",
        "    \"fit_threshold\": 50,\n",
        "    \"max_generations\": 100,\n",
        "    \"max_weight\": 20,\n",
        "    \"max_per_item\": 3,\n",
        "    \"items\": [Item(4, 12), Item(2, 2), Item(2, 1), Item(1, 1), Item(10,4)]\n",
        "}\n",
        "\n",
        "knapsack = KnapsackGenetic(params)\n",
        "knapsack.run()\n"
      ],
      "execution_count": 45,
      "outputs": [
        {
          "output_type": "stream",
          "name": "stdout",
          "text": "Generation #1:\t[0, 2, 3, 1, 3]\t41\nGeneration #2:\t[0, 1, 3, 3, 3]\t41\nGeneration #3:\t[0, 1, 3, 3, 3]\t41\nGeneration #4:\t[0, 3, 1, 1, 3]\t39\nGeneration #5:\t[0, 2, 3, 1, 3]\t41\nGeneration #6:\t[0, 2, 3, 1, 3]\t41\nGeneration #7:\t[0, 2, 2, 1, 3]\t39\nGeneration #8:\t[0, 2, 2, 1, 3]\t39\nGeneration #9:\t[0, 3, 2, 0, 3]\t40\nGeneration #10:\t[0, 2, 1, 3, 3]\t39\nGeneration #11:\t[0, 0, 3, 3, 3]\t39\nGeneration #12:\t[0, 1, 3, 2, 3]\t40\nGeneration #13:\t[0, 3, 2, 0, 3]\t40\nGeneration #14:\t[0, 0, 3, 2, 3]\t38\nGeneration #15:\t[0, 0, 3, 2, 3]\t38\nGeneration #16:\t[0, 2, 3, 0, 3]\t40\nGeneration #17:\t[0, 2, 1, 3, 3]\t39\nGeneration #18:\t[0, 2, 2, 2, 3]\t40\nGeneration #19:\t[0, 1, 2, 3, 3]\t39\nGeneration #20:\t[0, 1, 3, 2, 3]\t40\nGeneration #21:\t[0, 3, 0, 1, 3]\t37\nGeneration #22:\t[0, 2, 2, 0, 3]\t38\nGeneration #23:\t[0, 2, 3, 1, 3]\t41\nGeneration #24:\t[0, 2, 0, 2, 3]\t36\nGeneration #25:\t[0, 3, 2, 0, 3]\t40\nGeneration #26:\t[0, 2, 0, 2, 3]\t36\nGeneration #27:\t[0, 0, 1, 2, 3]\t34\nGeneration #28:\t[0, 2, 1, 2, 3]\t38\nGeneration #29:\t[0, 2, 0, 2, 3]\t36\nGeneration #30:\t[0, 3, 1, 1, 3]\t39\nGeneration #31:\t[0, 2, 3, 0, 3]\t40\nGeneration #32:\t[0, 2, 3, 0, 3]\t40\nGeneration #33:\t[0, 2, 3, 0, 3]\t40\nGeneration #34:\t[0, 2, 3, 0, 3]\t40\nGeneration #35:\t[0, 2, 3, 0, 3]\t40\nGeneration #36:\t[0, 2, 3, 0, 3]\t40\nGeneration #37:\t[0, 2, 3, 0, 3]\t40\nGeneration #38:\t[0, 2, 0, 3, 3]\t37\nGeneration #39:\t[0, 1, 0, 3, 3]\t35\nGeneration #40:\t[0, 2, 1, 2, 3]\t38\nGeneration #41:\t[0, 2, 1, 2, 3]\t38\nGeneration #42:\t[0, 0, 3, 0, 3]\t36\nGeneration #43:\t[0, 2, 2, 2, 3]\t40\nGeneration #44:\t[0, 2, 1, 3, 3]\t39\nGeneration #45:\t[0, 2, 1, 2, 3]\t38\nGeneration #46:\t[0, 1, 3, 3, 2]\t31\nGeneration #47:\t[0, 2, 2, 2, 2]\t30\nGeneration #48:\t[0, 1, 2, 1, 3]\t37\nGeneration #49:\t[0, 2, 1, 2, 3]\t38\nGeneration #50:\t[0, 2, 2, 2, 3]\t40\nGeneration #51:\t[0, 2, 1, 2, 3]\t38\nGeneration #52:\t[0, 1, 3, 3, 3]\t41\nGeneration #53:\t[0, 2, 1, 2, 3]\t38\nGeneration #54:\t[0, 2, 1, 2, 3]\t38\nGeneration #55:\t[0, 0, 3, 2, 3]\t38\nGeneration #56:\t[0, 0, 1, 0, 3]\t32\nGeneration #57:\t[0, 1, 0, 1, 2]\t23\nGeneration #58:\t[0, 1, 0, 1, 2]\t23\nGeneration #59:\t[0, 2, 3, 1, 3]\t41\nGeneration #60:\t[0, 1, 3, 1, 3]\t39\nGeneration #61:\t[0, 1, 3, 1, 3]\t39\nGeneration #62:\t[0, 2, 0, 0, 1]\t14\nGeneration #63:\t[0, 3, 2, 0, 3]\t40\nGeneration #64:\t[0, 1, 2, 3, 3]\t39\nGeneration #65:\t[0, 0, 2, 0, 3]\t34\nGeneration #66:\t[0, 2, 2, 1, 3]\t39\nGeneration #67:\t[0, 2, 2, 3, 1]\t21\nGeneration #68:\t[0, 1, 3, 3, 3]\t41\nGeneration #69:\t[0, 1, 3, 3, 3]\t41\nGeneration #70:\t[0, 0, 3, 0, 3]\t36\nGeneration #71:\t[0, 1, 3, 3, 2]\t31\nGeneration #72:\t[0, 0, 0, 1, 2]\t21\nGeneration #73:\t[0, 2, 0, 3, 3]\t37\nGeneration #74:\t[0, 3, 3, 2, 2]\t34\nGeneration #75:\t[0, 3, 2, 3, 2]\t33\nGeneration #76:\t[0, 2, 3, 0, 2]\t30\nGeneration #77:\t[0, 2, 3, 0, 2]\t30\nGeneration #78:\t[0, 3, 3, 1, 2]\t33\nGeneration #79:\t[0, 2, 2, 2, 3]\t40\nGeneration #80:\t[0, 2, 3, 0, 3]\t40\nGeneration #81:\t[0, 3, 3, 1, 2]\t33\nGeneration #82:\t[0, 3, 3, 3, 2]\t35\nGeneration #83:\t[0, 3, 3, 0, 2]\t32\nGeneration #84:\t[0, 3, 3, 0, 2]\t32\nGeneration #85:\t[0, 1, 0, 0, 3]\t32\nGeneration #86:\t[0, 1, 3, 0, 3]\t38\nGeneration #87:\t[0, 3, 2, 0, 3]\t40\nGeneration #88:\t[0, 1, 3, 3, 2]\t31\nGeneration #89:\t[0, 3, 0, 0, 2]\t26\nGeneration #90:\t[0, 3, 0, 2, 3]\t38\nGeneration #91:\t[0, 1, 2, 0, 3]\t36\nGeneration #92:\t[0, 3, 1, 0, 3]\t38\nGeneration #93:\t[0, 3, 0, 0, 3]\t36\nGeneration #94:\t[0, 2, 2, 1, 3]\t39\nGeneration #95:\t[0, 0, 3, 3, 3]\t39\nGeneration #96:\t[0, 2, 2, 2, 3]\t40\nGeneration #97:\t[0, 0, 3, 3, 3]\t39\nGeneration #98:\t[0, 0, 3, 3, 3]\t39\nGeneration #99:\t[0, 2, 0, 2, 3]\t36\nGeneration #100:\t[0, 3, 1, 0, 2]\t28\n"
        },
        {
          "output_type": "execute_result",
          "data": {
            "text/plain": "([0, 2, 3, 1, 3], 41)"
          },
          "metadata": {},
          "execution_count": 45
        }
      ]
    },
    {
      "cell_type": "code",
      "execution_count": null,
      "metadata": {},
      "outputs": [],
      "source": []
    },
    {
      "cell_type": "code",
      "execution_count": null,
      "metadata": {},
      "outputs": [],
      "source": []
    }
  ],
  "metadata": {
    "colab": {
      "name": "knapsack-exercise.ipynb",
      "provenance": [],
      "collapsed_sections": []
    },
    "kernelspec": {
      "name": "python37464bittensorcpuconda8b2b86e097274e0e93eb7cc555fdf246",
      "display_name": "Python 3.7.4 64-bit ('tensor-cpu': conda)"
    }
  },
  "nbformat": 4,
  "nbformat_minor": 0
}